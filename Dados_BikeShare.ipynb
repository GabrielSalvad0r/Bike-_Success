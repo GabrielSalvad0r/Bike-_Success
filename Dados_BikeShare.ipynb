{
  "cells": [
    {
      "cell_type": "markdown",
      "metadata": {
        "id": "view-in-github",
        "colab_type": "text"
      },
      "source": [
        "<a href=\"https://colab.research.google.com/github/GabrielSalvad0r/Bike-_Success/blob/main/Dados_BikeShare.ipynb\" target=\"_parent\"><img src=\"https://colab.research.google.com/assets/colab-badge.svg\" alt=\"Open In Colab\"/></a>"
      ]
    },
    {
      "cell_type": "markdown",
      "id": "93190c6e-28b6-4683-b414-34d43ac75c41",
      "metadata": {
        "id": "93190c6e-28b6-4683-b414-34d43ac75c41"
      },
      "source": [
        "\n",
        "**<p style=\"font-size:20px;\"> Como um compartilhamento de bicicletas possibilita o sucesso rápido?</p>**\n",
        "**<p style=\"font-size:18px;\">Introdução</p>**\n",
        "**São dados recolhidos desde Novembro de 2022 até Outubro de 2023**\n",
        "\n",
        "**Cenário:**\n",
        "Você é um analista de dados júnior que trabalha na equipe de analistas de marketing da Cyclistic, uma empresa de compartilhamento de bicicletas em Chicago. O diretor de marketing acredita que o sucesso futuro da empresa depende da maximização do número de planos anuais contratados. Portanto, sua equipe quer entender como os ciclistas casuais e os membros anuais usam as bicicletas da Cyclistic de forma diferente. A partir desses insights, sua equipe criará uma nova estratégia de marketing para converter passageiros casuais em membros anuais. Mas, primeiro, os executivos da Cyclistic devem aprovar suas recomendações que, portanto, devem ser apoiadas com insights de dados convincentes e visualizações de dados profissionais.\n",
        "\n",
        "**Personagens e equipes:**\n",
        "●Cyclistic: Um programa de compartilhamento de bicicletas que conta com mais de 5.800 bicicletas e 600 estações de compartilhamento. A Cyclistic se diferencia por também oferecer bicicletas reclináveis, triciclos manuais e bicicletas de carga, tornando o compartilhamento de bicicletas mais inclusivo para pessoas com deficiência e ciclistas que não podem usar uma bicicleta padrão de duas rodas. A maioria dos ciclistas opta por bicicletas tradicionais; cerca de 8% dos motociclistas usam as opções assistivas. Os usuários da Cyclistic são mais propensos a pedalar por lazer, mas cerca de 30% utilizam as bicicletas para se deslocarem ao trabalho diariamente.\n",
        "●Lily Moreno: Diretora de marketing e sua gerente. Lily é responsável pelo desenvolvimento de campanhas e iniciativas de promoção do programa de compartilhamento de bicicletas. As campanhas podem incluir e-mail, mídias sociais e outros canais.\n",
        "●Equipe de análise de marketing da Cyclistic: Uma equipe de analistas de dados responsáveis por coletar, analisar e relatar dados que ajudam a orientar a estratégia de marketing da Cyclistic. Você se juntou a essa equipe há seis meses e tem estado ocupado aprendendo sobre a missão e os objetivos de negócios da Cyclistic – e como você, como analista de dados júnior, também pode ajudar a Cyclistic a alcançá-los.\n",
        "●Equipe executiva da Cyclistic: A equipe executiva notoriamente detalhista decidirá se aprova o programa de marketing recomendado.\n",
        "\n",
        "**Sobre a empresa:**\n",
        "Em 2016, a Cyclistic lançou uma oferta bem-sucedida de compartilhamento de bicicletas. Desde então, o programa cresceu para uma frota de 5.824 bicicletas com rastreamento geográfico e bloqueio dentro de uma rede de 692 estações em Chicago. As bicicletas podem ser desbloqueadas em uma estação e devolvidas em qualquer outra estação do sistema a qualquer momento. Até agora, a estratégia de marketing da Cyclistic baseava-se na conscientização geral e no apelo a amplos segmentos de consumidores. Uma abordagem que ajudou a tornar essas coisas possíveis foi a flexibilidade de seus planos de preços: passes de viagem única, passes de dia inteiro e planos anuais. Os clientes que adquirem passes de viagem única ou de dia inteiro são chamados de passageiros casuais. Os clientes que adquirem planos anuais são membros Cyclistic.Os analistas financeiros da Cyclistic concluíram que os membros anuais são muito mais lucrativos do que os passageiros casuais. Embora a flexibilidade de preços ajude a Cyclistic a atrair mais clientes, Lily Moreno acredita que maximizar o número de membros anuais será a chave para o crescimento futuro. Em vez de criar uma campanha de marketing voltada para novos clientes, ela acredita que há uma boa chance de converter passageiros casuais em membros. Ela observa que os ciclistas casuais já estão cientes do programa Cyclistic e escolheram a Cyclistic para suas necessidades de mobilidade.\n",
        "\n",
        "A Lily estabeleceu um objetivo claro: criar estratégias de marketing destinadas a converter passageiros casuais em membros anuais. Para fazer isso, no entanto, a equipe de analistas de marketing precisa entender melhor como os membros anuais e os passageiros casuais diferem, por que os passageiros casuais iriam querer adquirir um plano e como a mídia digital poderia afetar suas táticas de marketing. A Lily e sua equipe estão interessados em analisar os dados históricos de trajetos de bicicleta da Cyclistic para identificar tendências.\n",
        "\n",
        "Perguntar\n",
        "Três perguntas nortearão o futuro programa de marketing:\n",
        "1.\tComo os membros anuais e os ciclistas casuais usam as bicicletas da Cyclistic de forma diferente?\n",
        "2.\tPor que os passageiros casuais iriam querer adquirir planos anuais da Cyclistic?\n",
        "3.\tComo a Cyclistic pode usar a mídia digital para influenciar os passageiros casuais a se tornarem membros?\n"
      ]
    },
    {
      "cell_type": "code",
      "execution_count": null,
      "id": "1808eeba-6322-46c2-b7ef-1c1954ff63ed",
      "metadata": {
        "tags": [],
        "id": "1808eeba-6322-46c2-b7ef-1c1954ff63ed"
      },
      "outputs": [],
      "source": [
        "import pandas as pd\n",
        "df202211=pd.read_csv(r'C:\\Users\\Usuario\\Desktop\\Portifolio\\202211.csv',sep=',')\n",
        "df202212=pd.read_csv(r'C:\\Users\\Usuario\\Desktop\\Portifolio\\202212.csv',sep=',')\n",
        "df202301=pd.read_csv(r'C:\\Users\\Usuario\\Desktop\\Portifolio\\202301.csv',sep=',')\n",
        "df202302=pd.read_csv(r'C:\\Users\\Usuario\\Desktop\\Portifolio\\202302.csv',sep=',')\n",
        "df202303=pd.read_csv(r'C:\\Users\\Usuario\\Desktop\\Portifolio\\202303.csv',sep=',')\n",
        "df202304=pd.read_csv(r'C:\\Users\\Usuario\\Desktop\\Portifolio\\202304.csv',sep=',')\n",
        "df202305=pd.read_csv(r'C:\\Users\\Usuario\\Desktop\\Portifolio\\202305.csv',sep=',')\n",
        "df202306=pd.read_csv(r'C:\\Users\\Usuario\\Desktop\\Portifolio\\202306.csv',sep=',')\n",
        "df202307=pd.read_csv(r'C:\\Users\\Usuario\\Desktop\\Portifolio\\202307.csv',sep=',')\n",
        "df202308=pd.read_csv(r'C:\\Users\\Usuario\\Desktop\\Portifolio\\202308.csv',sep=',')\n",
        "df202309=pd.read_csv(r'C:\\Users\\Usuario\\Desktop\\Portifolio\\202309.csv',sep=',')\n",
        "df202310=pd.read_csv(r'C:\\Users\\Usuario\\Desktop\\Portifolio\\202310.csv',sep=',')\n",
        "#11 de 2022 até 10 de 2023\n",
        "dataframes = [df202211, df202212, df202301, df202302,df202303, df202304, df202305, df202306,df202307, df202308, df202309, df202310]\n",
        "df_final = pd.concat(dataframes, ignore_index=True)\n"
      ]
    },
    {
      "cell_type": "code",
      "execution_count": null,
      "id": "22ef4666-37bd-4312-bcaa-8561c9265c21",
      "metadata": {
        "tags": [],
        "id": "22ef4666-37bd-4312-bcaa-8561c9265c21",
        "outputId": "bda5ee5a-1f71-48ff-8505-afe3eed4dd4f"
      },
      "outputs": [
        {
          "data": {
            "text/html": [
              "<div>\n",
              "<style scoped>\n",
              "    .dataframe tbody tr th:only-of-type {\n",
              "        vertical-align: middle;\n",
              "    }\n",
              "\n",
              "    .dataframe tbody tr th {\n",
              "        vertical-align: top;\n",
              "    }\n",
              "\n",
              "    .dataframe thead th {\n",
              "        text-align: right;\n",
              "    }\n",
              "</style>\n",
              "<table border=\"1\" class=\"dataframe\">\n",
              "  <thead>\n",
              "    <tr style=\"text-align: right;\">\n",
              "      <th></th>\n",
              "      <th>ride_id</th>\n",
              "      <th>rideable_type</th>\n",
              "      <th>started_at</th>\n",
              "      <th>ended_at</th>\n",
              "      <th>start_station_name</th>\n",
              "      <th>start_station_id</th>\n",
              "      <th>end_station_name</th>\n",
              "      <th>end_station_id</th>\n",
              "      <th>start_lat</th>\n",
              "      <th>start_lng</th>\n",
              "      <th>end_lat</th>\n",
              "      <th>end_lng</th>\n",
              "      <th>member_casual</th>\n",
              "      <th>Tempo_Total</th>\n",
              "    </tr>\n",
              "  </thead>\n",
              "  <tbody>\n",
              "    <tr>\n",
              "      <th>0</th>\n",
              "      <td>BCC66FC6FAB27CC7</td>\n",
              "      <td>electric_bike</td>\n",
              "      <td>2022-11-10 06:21:55</td>\n",
              "      <td>2022-11-10 06:31:27</td>\n",
              "      <td>Canal St &amp; Adams St</td>\n",
              "      <td>13011</td>\n",
              "      <td>St. Clair St &amp; Erie St</td>\n",
              "      <td>13016</td>\n",
              "      <td>41.879401</td>\n",
              "      <td>-87.639848</td>\n",
              "      <td>41.894345</td>\n",
              "      <td>-87.622798</td>\n",
              "      <td>member</td>\n",
              "      <td>0 days 00:09:32</td>\n",
              "    </tr>\n",
              "    <tr>\n",
              "      <th>1</th>\n",
              "      <td>772AB67E902C180F</td>\n",
              "      <td>classic_bike</td>\n",
              "      <td>2022-11-04 07:31:55</td>\n",
              "      <td>2022-11-04 07:46:25</td>\n",
              "      <td>Canal St &amp; Adams St</td>\n",
              "      <td>13011</td>\n",
              "      <td>St. Clair St &amp; Erie St</td>\n",
              "      <td>13016</td>\n",
              "      <td>41.879255</td>\n",
              "      <td>-87.639904</td>\n",
              "      <td>41.894345</td>\n",
              "      <td>-87.622798</td>\n",
              "      <td>member</td>\n",
              "      <td>0 days 00:14:30</td>\n",
              "    </tr>\n",
              "    <tr>\n",
              "      <th>2</th>\n",
              "      <td>585EAD07FDEC0152</td>\n",
              "      <td>classic_bike</td>\n",
              "      <td>2022-11-21 17:20:29</td>\n",
              "      <td>2022-11-21 17:34:36</td>\n",
              "      <td>Indiana Ave &amp; Roosevelt Rd</td>\n",
              "      <td>SL-005</td>\n",
              "      <td>St. Clair St &amp; Erie St</td>\n",
              "      <td>13016</td>\n",
              "      <td>41.867888</td>\n",
              "      <td>-87.623041</td>\n",
              "      <td>41.894345</td>\n",
              "      <td>-87.622798</td>\n",
              "      <td>member</td>\n",
              "      <td>0 days 00:14:07</td>\n",
              "    </tr>\n",
              "    <tr>\n",
              "      <th>3</th>\n",
              "      <td>91C4E7ED3C262FF9</td>\n",
              "      <td>classic_bike</td>\n",
              "      <td>2022-11-25 17:29:34</td>\n",
              "      <td>2022-11-25 17:45:15</td>\n",
              "      <td>Indiana Ave &amp; Roosevelt Rd</td>\n",
              "      <td>SL-005</td>\n",
              "      <td>St. Clair St &amp; Erie St</td>\n",
              "      <td>13016</td>\n",
              "      <td>41.867888</td>\n",
              "      <td>-87.623041</td>\n",
              "      <td>41.894345</td>\n",
              "      <td>-87.622798</td>\n",
              "      <td>member</td>\n",
              "      <td>0 days 00:15:41</td>\n",
              "    </tr>\n",
              "    <tr>\n",
              "      <th>4</th>\n",
              "      <td>709206A3104CABC8</td>\n",
              "      <td>classic_bike</td>\n",
              "      <td>2022-11-29 17:24:25</td>\n",
              "      <td>2022-11-29 17:42:51</td>\n",
              "      <td>Indiana Ave &amp; Roosevelt Rd</td>\n",
              "      <td>SL-005</td>\n",
              "      <td>St. Clair St &amp; Erie St</td>\n",
              "      <td>13016</td>\n",
              "      <td>41.867888</td>\n",
              "      <td>-87.623041</td>\n",
              "      <td>41.894345</td>\n",
              "      <td>-87.622798</td>\n",
              "      <td>member</td>\n",
              "      <td>0 days 00:18:26</td>\n",
              "    </tr>\n",
              "  </tbody>\n",
              "</table>\n",
              "</div>"
            ],
            "text/plain": [
              "            ride_id  rideable_type          started_at            ended_at  \\\n",
              "0  BCC66FC6FAB27CC7  electric_bike 2022-11-10 06:21:55 2022-11-10 06:31:27   \n",
              "1  772AB67E902C180F   classic_bike 2022-11-04 07:31:55 2022-11-04 07:46:25   \n",
              "2  585EAD07FDEC0152   classic_bike 2022-11-21 17:20:29 2022-11-21 17:34:36   \n",
              "3  91C4E7ED3C262FF9   classic_bike 2022-11-25 17:29:34 2022-11-25 17:45:15   \n",
              "4  709206A3104CABC8   classic_bike 2022-11-29 17:24:25 2022-11-29 17:42:51   \n",
              "\n",
              "           start_station_name start_station_id        end_station_name  \\\n",
              "0         Canal St & Adams St            13011  St. Clair St & Erie St   \n",
              "1         Canal St & Adams St            13011  St. Clair St & Erie St   \n",
              "2  Indiana Ave & Roosevelt Rd           SL-005  St. Clair St & Erie St   \n",
              "3  Indiana Ave & Roosevelt Rd           SL-005  St. Clair St & Erie St   \n",
              "4  Indiana Ave & Roosevelt Rd           SL-005  St. Clair St & Erie St   \n",
              "\n",
              "  end_station_id  start_lat  start_lng    end_lat    end_lng member_casual  \\\n",
              "0          13016  41.879401 -87.639848  41.894345 -87.622798        member   \n",
              "1          13016  41.879255 -87.639904  41.894345 -87.622798        member   \n",
              "2          13016  41.867888 -87.623041  41.894345 -87.622798        member   \n",
              "3          13016  41.867888 -87.623041  41.894345 -87.622798        member   \n",
              "4          13016  41.867888 -87.623041  41.894345 -87.622798        member   \n",
              "\n",
              "      Tempo_Total  \n",
              "0 0 days 00:09:32  \n",
              "1 0 days 00:14:30  \n",
              "2 0 days 00:14:07  \n",
              "3 0 days 00:15:41  \n",
              "4 0 days 00:18:26  "
            ]
          },
          "execution_count": 54,
          "metadata": {},
          "output_type": "execute_result"
        }
      ],
      "source": [
        "df_final.head()\n"
      ]
    },
    {
      "cell_type": "code",
      "execution_count": null,
      "id": "e9710a24-d9ac-4875-b13e-b78ced61842f",
      "metadata": {
        "id": "e9710a24-d9ac-4875-b13e-b78ced61842f",
        "outputId": "aade3cd1-52cc-456a-a94c-81843334aa45"
      },
      "outputs": [
        {
          "data": {
            "text/plain": [
              "member_casual\n",
              "casual    2054781\n",
              "member    3598046\n",
              "dtype: int64"
            ]
          },
          "execution_count": 20,
          "metadata": {},
          "output_type": "execute_result"
        }
      ],
      "source": [
        "agrupado=df_final.groupby(['member_casual']).size()\n",
        "agrupado"
      ]
    },
    {
      "cell_type": "code",
      "execution_count": null,
      "id": "12d8a798-2f59-442f-b226-e6d84fabb425",
      "metadata": {
        "tags": [],
        "id": "12d8a798-2f59-442f-b226-e6d84fabb425",
        "outputId": "6bbf1aa1-ba5f-45e2-a772-59e7be60aff9"
      },
      "outputs": [
        {
          "name": "stdout",
          "output_type": "stream",
          "text": [
            "Linhas com valores em branco na coluna:\n",
            "Empty DataFrame\n",
            "Columns: [ride_id, rideable_type, started_at, ended_at, start_station_name, start_station_id, end_station_name, end_station_id, start_lat, start_lng, end_lat, end_lng, member_casual, Tempo_Total]\n",
            "Index: []\n"
          ]
        }
      ],
      "source": [
        "#Não há valores me branco na coluna member_casual\n",
        "valores_em_branco_na_coluna = df_final['member_casual'].isnull()\n",
        "print(\"Linhas com valores em branco na coluna:\")\n",
        "print(df_final[valores_em_branco_na_coluna])\n"
      ]
    },
    {
      "cell_type": "code",
      "execution_count": null,
      "id": "c9c5db9a-d4a3-4751-ae2e-a6c0bfd60a83",
      "metadata": {
        "tags": [],
        "id": "c9c5db9a-d4a3-4751-ae2e-a6c0bfd60a83",
        "outputId": "207e8560-7077-4e76-aae9-ae459532cd12"
      },
      "outputs": [
        {
          "name": "stdout",
          "output_type": "stream",
          "text": [
            "A porcentagem do Casual é 36.35% e a de member é 63.65%.\n"
          ]
        }
      ],
      "source": [
        "Soma=2054781 +3598046\n",
        "porcentagem_Casual = (2054781 / Soma) * 100\n",
        "porcentagem_member = (3598046 / Soma) * 100\n",
        "print(f'A porcentagem do Casual é {porcentagem_Casual:.2f}% e a de member é {porcentagem_member:.2f}%.')\n"
      ]
    },
    {
      "cell_type": "code",
      "execution_count": null,
      "id": "d7cf68b9-25b7-48af-a95c-3b7392437d2d",
      "metadata": {
        "tags": [],
        "id": "d7cf68b9-25b7-48af-a95c-3b7392437d2d",
        "outputId": "64a230e1-0bbf-49b3-f2ca-10bd13f6bf9f"
      },
      "outputs": [
        {
          "name": "stdout",
          "output_type": "stream",
          "text": [
            "Linhas duplicadas na coluna:\n",
            "Empty DataFrame\n",
            "Columns: [ride_id, rideable_type, started_at, ended_at, start_station_name, start_station_id, end_station_name, end_station_id, start_lat, start_lng, end_lat, end_lng, member_casual]\n",
            "Index: []\n"
          ]
        }
      ],
      "source": [
        "#Sem duplicadas\n",
        "duplicatas_na_coluna = df_final.duplicated(subset=['ride_id'])\n",
        "linhas_duplicadas = df_final[duplicatas_na_coluna]\n",
        "print(\"Linhas duplicadas na coluna:\")\n",
        "print(linhas_duplicadas)"
      ]
    },
    {
      "cell_type": "code",
      "execution_count": null,
      "id": "6128346f-fba3-4e4d-9ee7-c017c877e340",
      "metadata": {
        "tags": [],
        "id": "6128346f-fba3-4e4d-9ee7-c017c877e340",
        "outputId": "517a399c-13cf-4f93-8013-278eafbdfc46"
      },
      "outputs": [
        {
          "name": "stdout",
          "output_type": "stream",
          "text": [
            "Tipo de dados da coluna 'started_at': datetime64[ns]\n",
            "Tipo de dados da coluna 'ended_at': datetime64[ns]\n"
          ]
        }
      ],
      "source": [
        "#Converter as colunas ended_at e starded_at para datatime\n",
        "df_final['started_at'] = pd.to_datetime(df_final['started_at'])\n",
        "a = df_final['started_at'].dtype\n",
        "print(\"Tipo de dados da coluna 'started_at':\", a)\n",
        "df_final['ended_at'] = pd.to_datetime(df_final['ended_at'])\n",
        "a = df_final['ended_at'].dtype\n",
        "print(\"Tipo de dados da coluna 'ended_at':\", a)"
      ]
    },
    {
      "cell_type": "code",
      "execution_count": null,
      "id": "a5184cff-eb27-487a-a341-e9049930372a",
      "metadata": {
        "tags": [],
        "id": "a5184cff-eb27-487a-a341-e9049930372a"
      },
      "outputs": [],
      "source": [
        "#Criar a coluna\n",
        "df_final['Tempo_Total'] = df_final['ended_at'] - df_final['started_at']"
      ]
    },
    {
      "cell_type": "code",
      "execution_count": null,
      "id": "58d3eacd-c3bf-4603-bece-5ddeb5a271be",
      "metadata": {
        "tags": [],
        "id": "58d3eacd-c3bf-4603-bece-5ddeb5a271be",
        "outputId": "53b8d776-1332-4205-c651-b41eacc471ff"
      },
      "outputs": [
        {
          "data": {
            "text/plain": [
              "count                      5652827\n",
              "mean     0 days 00:18:15.748520695\n",
              "std      0 days 03:04:35.980092621\n",
              "min              -1 days +22:38:19\n",
              "25%                0 days 00:05:25\n",
              "50%                0 days 00:09:32\n",
              "75%                0 days 00:16:57\n",
              "max               68 days 09:29:04\n",
              "Name: Tempo_Total, dtype: object"
            ]
          },
          "execution_count": 56,
          "metadata": {},
          "output_type": "execute_result"
        }
      ],
      "source": [
        "#Descrever a coluna\n",
        "df_final['Tempo_Total'].describe()"
      ]
    },
    {
      "cell_type": "code",
      "execution_count": null,
      "id": "52ca98c4-3e67-4665-948a-e996ce47feb7",
      "metadata": {
        "tags": [],
        "id": "52ca98c4-3e67-4665-948a-e996ce47feb7",
        "outputId": "ee38b11e-fa0a-4eb1-b2c3-9d82a79bc416"
      },
      "outputs": [
        {
          "data": {
            "text/html": [
              "<div>\n",
              "<style scoped>\n",
              "    .dataframe tbody tr th:only-of-type {\n",
              "        vertical-align: middle;\n",
              "    }\n",
              "\n",
              "    .dataframe tbody tr th {\n",
              "        vertical-align: top;\n",
              "    }\n",
              "\n",
              "    .dataframe thead th {\n",
              "        text-align: right;\n",
              "    }\n",
              "</style>\n",
              "<table border=\"1\" class=\"dataframe\">\n",
              "  <thead>\n",
              "    <tr style=\"text-align: right;\">\n",
              "      <th></th>\n",
              "      <th>Tempo_Total</th>\n",
              "    </tr>\n",
              "  </thead>\n",
              "  <tbody>\n",
              "    <tr>\n",
              "      <th>count</th>\n",
              "      <td>3598046</td>\n",
              "    </tr>\n",
              "    <tr>\n",
              "      <th>mean</th>\n",
              "      <td>0 days 00:12:28.948097661</td>\n",
              "    </tr>\n",
              "    <tr>\n",
              "      <th>std</th>\n",
              "      <td>0 days 00:32:39.900853098</td>\n",
              "    </tr>\n",
              "    <tr>\n",
              "      <th>min</th>\n",
              "      <td>-1 days +22:38:19</td>\n",
              "    </tr>\n",
              "    <tr>\n",
              "      <th>25%</th>\n",
              "      <td>0 days 00:04:56</td>\n",
              "    </tr>\n",
              "    <tr>\n",
              "      <th>50%</th>\n",
              "      <td>0 days 00:08:31</td>\n",
              "    </tr>\n",
              "    <tr>\n",
              "      <th>75%</th>\n",
              "      <td>0 days 00:14:37</td>\n",
              "    </tr>\n",
              "    <tr>\n",
              "      <th>max</th>\n",
              "      <td>1 days 01:59:40</td>\n",
              "    </tr>\n",
              "  </tbody>\n",
              "</table>\n",
              "</div>"
            ],
            "text/plain": [
              "                     Tempo_Total\n",
              "count                    3598046\n",
              "mean   0 days 00:12:28.948097661\n",
              "std    0 days 00:32:39.900853098\n",
              "min            -1 days +22:38:19\n",
              "25%              0 days 00:04:56\n",
              "50%              0 days 00:08:31\n",
              "75%              0 days 00:14:37\n",
              "max              1 days 01:59:40"
            ]
          },
          "execution_count": 78,
          "metadata": {},
          "output_type": "execute_result"
        }
      ],
      "source": [
        "tempo_casual=df_final[['Tempo_Total']].loc[df_final['member_casual']=='member']\n",
        "tempo_casual.describe()"
      ]
    },
    {
      "cell_type": "code",
      "execution_count": null,
      "id": "e6b152fb-6f6d-4a24-ab8a-0e826d73fb81",
      "metadata": {
        "tags": [],
        "id": "e6b152fb-6f6d-4a24-ab8a-0e826d73fb81",
        "outputId": "5375c00e-a5dd-49d3-89d0-95e2b7a23ea7"
      },
      "outputs": [
        {
          "name": "stdout",
          "output_type": "stream",
          "text": [
            "rideable_type\n",
            "electric_bike    1109111\n",
            "classic_bike      859572\n",
            "docked_bike        86098\n",
            "Name: count, dtype: int64\n",
            "A porcentagem do electric_bike é 53.98% e a da classic_bike é 41.83% e a da docked_bikeé 4.19%. \n"
          ]
        }
      ],
      "source": [
        "#tipo de bicicletas usadas pelos membros casuais\n",
        "bike_casual=df_final[['rideable_type']].loc[df_final['member_casual']=='casual']\n",
        "contagem_bike_casual = bike_casual.value_counts()\n",
        "print(contagem_bike_casual)\n",
        "\n",
        "soma=1109111+ 859572+86098\n",
        "eletric_casual= (1109111/soma )*100\n",
        "classic_casual= (859572/soma )*100\n",
        "docked_casual=(86098/soma )*100\n",
        "print(f'A porcentagem do electric_bike é {eletric_casual:.2f}% e a da classic_bike é {classic_casual:.2f}% e a da docked_bikeé {docked_casual:.2f}%. ')\n"
      ]
    },
    {
      "cell_type": "code",
      "execution_count": null,
      "id": "d7e0a17f-ebe9-43a2-8306-af543efac9f4",
      "metadata": {
        "tags": [],
        "id": "d7e0a17f-ebe9-43a2-8306-af543efac9f4",
        "outputId": "c0f70cfc-f114-4e83-d33d-888bb9825b25"
      },
      "outputs": [
        {
          "name": "stdout",
          "output_type": "stream",
          "text": [
            "rideable_type\n",
            "electric_bike    1824397\n",
            "classic_bike     1773649\n",
            "Name: count, dtype: int64\n",
            "A porcentagem do electric_bike é 50.71% e a da classic_bike é 49.29%.\n"
          ]
        }
      ],
      "source": [
        "#tipo de bicicletas usadas pelos membros fixos\n",
        "bike_member=df_final[['rideable_type']].loc[df_final['member_casual']=='member']\n",
        "contagem_bike_member = bike_member.value_counts()\n",
        "print(contagem_bike_member)\n",
        "total=1824397+1773649\n",
        "eletric_member=(1824397/total)*100\n",
        "classic_member=(1773649/total)*100\n",
        "print(f'A porcentagem do electric_bike é {eletric_member:.2f}% e a da classic_bike é {classic_member:.2f}%.')\n"
      ]
    },
    {
      "cell_type": "code",
      "execution_count": null,
      "id": "d0ffc8fa-d474-4537-a390-03772bb2b113",
      "metadata": {
        "tags": [],
        "id": "d0ffc8fa-d474-4537-a390-03772bb2b113",
        "outputId": "79c8601c-ba73-4b48-fb6d-d4afe5116ede"
      },
      "outputs": [
        {
          "name": "stdout",
          "output_type": "stream",
          "text": [
            "start_station_name\n",
            "Streeter Dr & Grand Ave                   46186\n",
            "DuSable Lake Shore Dr & Monroe St         30323\n",
            "Michigan Ave & Oak St                     22525\n",
            "DuSable Lake Shore Dr & North Blvd        20256\n",
            "Millennium Park                           20256\n",
            "                                          ...  \n",
            "Public Rack - Mulligan & Northwest Hwy        1\n",
            "Public Rack - Kostner Ave & North Ave         1\n",
            "Public Rack - Ewing Ave & 102nd St            1\n",
            "Public Rack - Ashland Ave & 46th St           1\n",
            "Public Rack - Emerald Ave & 45th St           1\n",
            "Name: count, Length: 1541, dtype: int64\n",
            "start_station_name\n",
            "Streeter Dr & Grand Ave               46186\n",
            "DuSable Lake Shore Dr & Monroe St     30323\n",
            "Michigan Ave & Oak St                 22525\n",
            "DuSable Lake Shore Dr & North Blvd    20256\n",
            "Millennium Park                       20256\n",
            "Shedd Aquarium                        17777\n",
            "Theater on the Lake                   16327\n",
            "Dusable Harbor                        15153\n",
            "Wells St & Concord Ln                 12185\n",
            "Montrose Harbor                       11916\n",
            "Adler Planetarium                     11846\n",
            "Indiana Ave & Roosevelt Rd            11662\n",
            "Clark St & Armitage Ave               11047\n",
            "Michigan Ave & 8th St                 10842\n",
            "Clark St & Lincoln Ave                10832\n",
            "Clark St & Elm St                     10802\n",
            "Wilton Ave & Belmont Ave              10577\n",
            "Wells St & Elm St                      9896\n",
            "Wabash Ave & Grand Ave                 9801\n",
            "Clark St & Newport St                  9749\n",
            "Name: count, dtype: int64\n"
          ]
        }
      ],
      "source": [
        "#Limpeza das estações\n",
        "# Cria um dicionário de mapeamento entre start_station_id e start_station_name\n",
        "mapeamento_estacoes = df_final.groupby('start_station_id')['start_station_name'].first().to_dict()\n",
        "# Preenche os valores em branco na coluna 'start_station_name' usando o mapeamento\n",
        "df_final['start_station_name'] = df_final['start_station_name'].fillna(df_final['start_station_id'].map(mapeamento_estacoes))\n",
        "\n",
        "contagem_estacoes_casual = df_final[df_final['member_casual'] == 'casual']['start_station_name'].value_counts()\n",
        "print(contagem_estacoes_casual)\n",
        "\n",
        "top_estacoes_casual = df_final[df_final['member_casual'] == 'casual']['start_station_name'].value_counts().head(20)\n",
        "print(top_estacoes_casual)"
      ]
    },
    {
      "cell_type": "code",
      "execution_count": null,
      "id": "98376b19-786d-4427-84b4-100eb738a09d",
      "metadata": {
        "tags": [],
        "id": "98376b19-786d-4427-84b4-100eb738a09d",
        "outputId": "f36a6e5d-55ed-4678-c024-6b94273059ee"
      },
      "outputs": [
        {
          "data": {
            "image/png": "[encoded data removed]",
            "text/plain": [
              "<Figure size 1200x600 with 1 Axes>"
            ]
          },
          "metadata": {},
          "output_type": "display_data"
        }
      ],
      "source": [
        "import matplotlib.pyplot as plt\n",
        "\n",
        "# Calcula as top 20 estações mais visitadas por usuários casuais\n",
        "top_estacoes_casual = df_final[df_final['member_casual'] == 'casual']['start_station_name'].value_counts().head(20)\n",
        "# Cria o histograma\n",
        "plt.figure(figsize=(12, 6))\n",
        "top_estacoes_casual.sort_values().plot(kind='barh', color='skyblue')\n",
        "plt.title('Top 20 Estações Mais Visitadas por Usuários Casuais')\n",
        "plt.xlabel('Contagem de Ocorrências')\n",
        "plt.ylabel('Estações')\n",
        "plt.show()\n",
        "\n",
        "\n"
      ]
    },
    {
      "cell_type": "markdown",
      "id": "97c6f472-613b-4f33-88be-8ccbd38e6980",
      "metadata": {
        "id": "97c6f472-613b-4f33-88be-8ccbd38e6980"
      },
      "source": [
        "**<p style=\"font-size:18px;\">Conclusão</p>**\n",
        "**Como os membros anuais e os ciclistas casuais usam as bicicletas da Cyclistic de forma diferente?**\n",
        "É possível destacar algumas diferenças no uso das bicicletas da Cyclistic entre membros anuais e ciclistas casuais:\n",
        "\n",
        "Duração Média de Uso:\n",
        "Ciclistas casuais têm uma média de tempo de uso mais longa (28 minutos e 23 segundos), enquanto membros anuais têm uma média mais curta (12 minutos e 28 segundos).\n",
        "\n",
        "Distribuição Percentual do Uso:\n",
        "Ciclistas casuais representam 36.35% do uso total, enquanto membros anuais representam 63.65%.\n",
        "\n",
        "Preferência por Tipo de Bicicleta:\n",
        "Ciclistas casuais preferem bicicletas elétricas (53.98%) em maior proporção do que bicicletas clássicas (41.83%) e bicicletas acopladas (4.19%).\n",
        "Membros anuais também preferem bicicletas elétricas (50.71%), mas a distribuição entre bicicletas clássicas (49.29%) é mais equilibrada.\n",
        "\n",
        "Total de Usos de Bicicletas:\n",
        "Membros anuais têm um uso total significativamente maior em termos percentuais (63.65%) do que ciclistas casuais (36.35%).Em resumo, os ciclistas casuais tendem a usar as bicicletas por períodos mais longos, preferem bicicletas elétricas em uma proporção um pouco maior e contribuem significativamente para o tempo total de uso. Por outro lado, membros anuais usam as bicicletas com mais frequência em termos percentuais, têm uma média de tempo de uso mais curta e têm uma preferência equilibrada entre bicicletas elétricas e clássicas. Essas diferenças podem influenciar estratégias de marketing, alocação de recursos e ajustes na frota para atender às distintas necessidades desses dois grupos de usuários.\n",
        "\n",
        "**Por que os passageiros casuais iriam querer adquirir planos anuais da Cyclistic?**\n",
        "Com base nos dados analisados, há várias razões pelas quais os passageiros casuais podem encontrar vantagens em adquirir planos anuais da Cyclistic. Primeiramente, a análise financeira revela que membros anuais são mais lucrativos, sugerindo que um plano anual pode ser economicamente mais vantajoso para os passageiros casuais. Além disso, se os passageiros casuais utilizam as bicicletas com frequência, optar por um plano anual ofereceria acesso ilimitado, proporcionando conveniência e economia a longo prazo.A preferência por tipos específicos de bicicletas também desempenha um papel, especialmente se os passageiros casuais têm uma inclinação por bicicletas elétricas ou clássicas. Com um plano anual, eles teriam acesso a uma variedade de opções.A análise de padrões de uso recorrentes destaca a conveniência de um plano anual, eliminando a necessidade de transações individuais a cada viagem. Além disso, se a Cyclistic oferecer incentivos exclusivos, descontos ou benefícios adicionais aos membros anuais, isso pode ser um forte motivador para os passageiros casuais considerarem a aquisição de um plano anual.Em síntese, a economia financeira, a frequência de uso, a oferta de benefícios adicionais e a conveniência emergem como fatores-chave que podem incentivar os passageiros casuais a adquirirem planos anuais da Cyclistic. Ao comunicar efetivamente esses benefícios em campanhas de marketing, a Cyclistic pode aumentar suas chances de converter passageiros casuais em membros anuais.\n",
        "\n",
        "**Como a Cyclistic pode usar a mídia digital para influenciar os passageiros casuais a se tornarem membros?**\n",
        "\n",
        "A Cyclistic pode desenvolver uma estratégia de marketing digital abrangente para converter usuários casuais em membros anuais, aproveitando insights valiosos dos dados. Destacando a média mais longa de tempo de uso para ciclistas casuais, os anúncios personalizados podem enfatizar como se tornar um membro anual proporciona uma experiência mais econômica e conveniente. Ofertas exclusivas nas top 20 áreas, como descontos extras para os primeiros 100 inscritos, podem incentivar a adesão.O conteúdo educativo, como vídeos curtos e infográficos, pode ser desenvolvido para explicar as vantagens de se tornar um membro anual em termos de economia, acesso prioritário e flexibilidade. Essas informações podem ser compartilhadas nas redes sociais, onde desafios interativos e campanhas motivacionais encorajam usuários casuais a compartilhar experiências e considerar a transição para a categoria de membros anuais.Estabelecendo parcerias com estabelecimentos locais nas top 20 áreas, a Cyclistic pode oferecer descontos exclusivos aos membros anuais, destacando essas colaborações em campanhas digitais. Anúncios georreferenciados em aplicativos móveis podem enviar notificações aos usuários casuais quando estiverem nas áreas estratégicas, incentivando-os a se inscreverem para planos anuais.Webinars e eventos virtuais interativos são oportunidades para explicar os benefícios de ser um membro anual, responder perguntas ao vivo e oferecer promoções exclusivas para participantes. Destacar depoimentos autênticos de membros anuais nas campanhas contribui para construir confiança.Além disso, e-mails segmentados personalizados para usuários casuais nas top 20 áreas podem incentivar a conversão para membros anuais. Essa abordagem direcionada, combinada com a análise contínua de métricas, permitirá que a Cyclistic otimize sua estratégia de marketing digital e alcance um aumento significativo na adesão aos planos anuais.\n",
        "Outra estratégia, baseada nos dados que retiramos da análise, seria destacar a Distribuição Percentual do Uso para reforçar a popularidade e aceitação generalizada dos membros anuais. Ao enfatizar que a maioria dos usuários regulares opta por esse plano, a Cyclistic cria um senso de confiança sólida na comunidade.A Preferência por Tipo de Bicicleta, especificamente a inclinação dos usuários casuais por bicicletas elétricas, pode ser incorporada através de imagens e mensagens específicas. Anúncios dedicados a bicicletas elétricas não apenas refletem as preferências, mas também destacam a conveniência e eficiência desse tipo de bicicleta.Ao abordar o Total de Usos de Bicicletas, a Cyclistic pode ressaltar a alta taxa de uso por membros anuais, sugerindo que aderir a esse plano oferece mais oportunidades para aproveitar o serviço. Mensagens persuasivas, como \"Mais usos, mais economia!\", podem ser eficazes ao destacar os benefícios financeiros dessa escolha.A Duração Média de Uso oferece uma oportunidade para criar conteúdo persuasivo. Destacar como os usuários casuais podem prolongar suas experiências e aproveitar cada viagem ao se tornarem membros anuais é essencial. Por exemplo, a mensagem \"Faça cada minuto contar!\" ressalta a ideia de uma experiência mais rica e prolongada.Ao incorporar esses aspectos em diferentes elementos da campanha, a Cyclistic constrói uma narrativa completa e persuasiva. A segmentação da mensagem com base nas preferências específicas e comportamentos dos usuários aumenta a relevância da campanha, tornando-a mais eficaz na conversão de usuários casuais em membros anuais.\n"
      ]
    },
    {
      "cell_type": "code",
      "execution_count": null,
      "id": "4a9adb8b-42ac-4f3b-ae74-00a04141d959",
      "metadata": {
        "id": "4a9adb8b-42ac-4f3b-ae74-00a04141d959"
      },
      "outputs": [],
      "source": []
    }
  ],
  "metadata": {
    "kernelspec": {
      "display_name": "Python 3 (ipykernel)",
      "language": "python",
      "name": "python3"
    },
    "language_info": {
      "codemirror_mode": {
        "name": "ipython",
        "version": 3
      },
      "file_extension": ".py",
      "mimetype": "text/x-python",
      "name": "python",
      "nbconvert_exporter": "python",
      "pygments_lexer": "ipython3",
      "version": "3.11.5"
    },
    "colab": {
      "provenance": [],
      "include_colab_link": true
    }
  },
  "nbformat": 4,
  "nbformat_minor": 5
}